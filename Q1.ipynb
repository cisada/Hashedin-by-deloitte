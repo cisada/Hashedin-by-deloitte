{
 "cells": [
  {
   "cell_type": "markdown",
   "id": "dd2100bd",
   "metadata": {},
   "source": [
    "## Hashedin by Deloitte 2025 Coding Questions\n"
   ]
  },
  {
   "cell_type": "markdown",
   "id": "fdd54aad",
   "metadata": {},
   "source": [
    "# Q1\n",
    "\n",
    "In a vibrant town of Shopville, there are N specialty stores waiting to stock their shelves with new products. The town has M different types of exciting products ready for distribution. Each type of product has a specific quantity neatly packed and ready for delivery. These products are represented in a test called Quantities, where each entry tells how many items are available for each type. The town council's goal is to distribute their products to the stores in such a way that no store is overwhelmed, while maximizing the efficiency of the distribution. \n",
    "\n",
    "The rules were, \n",
    "> each product can only stock one type of product, but can take as many of that type as needed.\n",
    "\n",
    "> After all products are distributed, every store will have some stock or possibly even none. \n",
    "\n",
    "The council wants to ensure that the most stocked store doesn't hold too many products compared to others. Therefore, the challenge is to keep the maximum number of products in any one store as low as possible. Your mission is to help the town council find the smallest possible X, which represents the maximum number of products given to any store. "
   ]
  },
  {
   "cell_type": "markdown",
   "id": "8199cb19",
   "metadata": {},
   "source": [
    "Here, \n",
    "\n",
    "input: N = number of shops, and quantities\n",
    "\n",
    "EXAMPLE:\n",
    "\n",
    "\n",
    "N = 7, , and quantities =[ 15, 10, 5]\n",
    "output =  5"
   ]
  },
  {
   "cell_type": "markdown",
   "id": "ca3e515f",
   "metadata": {},
   "source": [
    "### SOLUTION\n",
    "\n",
    "Here,\n",
    "We need to distribute products among N stores such that:\n",
    "\n",
    ">Each store can only receive one type of product.\n",
    "\n",
    ">The goal is to minimize the maximum number of products in any store.\n",
    "\n",
    ">We determine the smallest possible X (maximum stock in any one store)."
   ]
  },
  {
   "cell_type": "markdown",
   "id": "253f5434",
   "metadata": {},
   "source": [
    "### Approach:\n",
    "\n",
    "#### Binary Search on X (max stock per store):\n",
    "\n",
    "> left = 1 (minimum possible stock per store).\n",
    "\n",
    "> right = max(quantities) (worst case, one store gets all of one type).\n",
    "\n",
    "> Use binary search to minimize the maximum stock.\n",
    "\n",
    "#### Check feasibility using required_stores(limit):\n",
    "\n",
    "> If each store can hold at most limit products, determine how many stores are needed.\n",
    "\n",
    "> If the total stores needed ≤ N, it's a valid limit (try to lower X).\n",
    "Otherwise, increase X."
   ]
  },
  {
   "cell_type": "markdown",
   "id": "a8f05f4b",
   "metadata": {},
   "source": [
    "## CODE(PYTHON)"
   ]
  },
  {
   "cell_type": "code",
   "execution_count": 2,
   "id": "420d2642",
   "metadata": {},
   "outputs": [],
   "source": [
    "def minMaxStockPerStore(N, quantities):\n",
    "    left, right = 1, max(quantities)\n",
    "\n",
    "    def required_stores(limit):\n",
    "        \"\"\"Calculate how many stores are needed if each store can hold at most 'limit' items.\"\"\"\n",
    "        return sum((q + limit - 1) // limit for q in quantities)  # Equivalent to ceil(q / limit)\n",
    "\n",
    "    while left < right:\n",
    "        mid = (left + right) // 2\n",
    "        if required_stores(mid) <= N:\n",
    "            right = mid  # Try a smaller max limit\n",
    "        else:\n",
    "            left = mid + 1  # Increase the max limit\n",
    "\n",
    "    return left  # Smallest possible max stock per store\n"
   ]
  },
  {
   "cell_type": "code",
   "execution_count": 3,
   "id": "54a0b22d",
   "metadata": {},
   "outputs": [
    {
     "name": "stdout",
     "output_type": "stream",
     "text": [
      "5\n"
     ]
    }
   ],
   "source": [
    "# Example test case\n",
    "N = 7\n",
    "quantities = [15, 10, 5]\n",
    "print(minMaxStockPerStore(N, quantities))  # Output: 5"
   ]
  },
  {
   "cell_type": "markdown",
   "id": "e1b6c687",
   "metadata": {},
   "source": [
    "### Explanation with Example (N = 7, quantities = [15, 10, 5])\n",
    "\n",
    "#### Binary Search Range:\n",
    "\n",
    "> left = 1, \n",
    "right = 15 (max quantity).\n",
    "\n",
    "#### Iterations:\n",
    "\n",
    "mid = 8, stores needed = ceil(15/8) + ceil(10/8) + ceil(5/8) = 2 + 2 + 1 = 5 (valid, try smaller X).\n",
    "\n",
    "mid = 4, stores needed = ceil(15/4) + ceil(10/4) + ceil(5/4) = 4 + 3 + 2 = 9 (too many, increase X).\n",
    "\n",
    "mid = 6, stores needed = ceil(15/6) + ceil(10/6) + ceil(5/6) = 3 + 2 + 1 = 6 (valid, try smaller X).\n",
    "\n",
    "mid = 5, stores needed = ceil(15/5) + ceil(10/5) + ceil(5/5) = 3 + 2 + 1 = 6 (valid, try smaller X).\n",
    "\n",
    "#### Final Answer:\n",
    "\n",
    "X = 5 is the smallest possible maximum stock per store.\n",
    "\n",
    "\n",
    "### Time Complexity Analysis:\n",
    "\n",
    "> ##### Binary Search: O(log⁡𝑀) where 𝑀 is the max quantity.\n",
    "> ##### Store Calculation per step: O(M).\n",
    "> ##### Total Complexity: O(MlogM), efficient for large inputs."
   ]
  },
  {
   "cell_type": "markdown",
   "id": "de69fd0b",
   "metadata": {},
   "source": [
    "# OR"
   ]
  },
  {
   "cell_type": "code",
   "execution_count": 4,
   "id": "27234d40",
   "metadata": {},
   "outputs": [
    {
     "name": "stdout",
     "output_type": "stream",
     "text": [
      "5\n"
     ]
    }
   ],
   "source": [
    "import math\n",
    "\n",
    "def min_max_distribution(N, quantities):\n",
    "    left, right = 1, max(quantities)  # Binary search range\n",
    "    while left < right:\n",
    "        mid = (left + right) // 2\n",
    "        stores_needed = sum(math.ceil(q / mid) for q in quantities)\n",
    "\n",
    "        if stores_needed <= N:\n",
    "            right = mid  # Try for a smaller max limit\n",
    "        else:\n",
    "            left = mid + 1  # Increase the max limit\n",
    "\n",
    "    return left\n",
    "\n",
    "# Example usage\n",
    "N = 7\n",
    "quantities = [15, 10, 5]\n",
    "print(min_max_distribution(N, quantities))  # Output: 5\n"
   ]
  },
  {
   "cell_type": "code",
   "execution_count": null,
   "id": "940d4a58",
   "metadata": {},
   "outputs": [],
   "source": []
  },
  {
   "cell_type": "code",
   "execution_count": null,
   "id": "2938b14a",
   "metadata": {},
   "outputs": [],
   "source": []
  },
  {
   "cell_type": "code",
   "execution_count": null,
   "id": "8623f464",
   "metadata": {},
   "outputs": [],
   "source": []
  },
  {
   "cell_type": "code",
   "execution_count": null,
   "id": "8e95b417",
   "metadata": {},
   "outputs": [],
   "source": []
  },
  {
   "cell_type": "code",
   "execution_count": null,
   "id": "d8e4445b",
   "metadata": {},
   "outputs": [],
   "source": []
  },
  {
   "cell_type": "code",
   "execution_count": null,
   "id": "9518f7d0",
   "metadata": {},
   "outputs": [],
   "source": []
  },
  {
   "cell_type": "code",
   "execution_count": null,
   "id": "019e8850",
   "metadata": {},
   "outputs": [],
   "source": []
  },
  {
   "cell_type": "code",
   "execution_count": null,
   "id": "f59b81e2",
   "metadata": {},
   "outputs": [],
   "source": []
  },
  {
   "cell_type": "code",
   "execution_count": null,
   "id": "62bf2aac",
   "metadata": {},
   "outputs": [],
   "source": []
  },
  {
   "cell_type": "code",
   "execution_count": null,
   "id": "c89c840a",
   "metadata": {},
   "outputs": [],
   "source": []
  },
  {
   "cell_type": "code",
   "execution_count": null,
   "id": "40c7ff85",
   "metadata": {},
   "outputs": [],
   "source": []
  }
 ],
 "metadata": {
  "kernelspec": {
   "display_name": "Python 3 (ipykernel)",
   "language": "python",
   "name": "python3"
  },
  "language_info": {
   "codemirror_mode": {
    "name": "ipython",
    "version": 3
   },
   "file_extension": ".py",
   "mimetype": "text/x-python",
   "name": "python",
   "nbconvert_exporter": "python",
   "pygments_lexer": "ipython3",
   "version": "3.9.13"
  }
 },
 "nbformat": 4,
 "nbformat_minor": 5
}
